{
 "cells": [
  {
   "cell_type": "code",
   "execution_count": 37,
   "metadata": {
    "collapsed": true
   },
   "outputs": [],
   "source": [
    "import cv2\n",
    "import numpy\n",
    "%matplotlib inline"
   ]
  },
  {
   "cell_type": "code",
   "execution_count": 39,
   "metadata": {
    "collapsed": false
   },
   "outputs": [
    {
     "data": {
      "text/plain": [
       "True"
      ]
     },
     "execution_count": 39,
     "metadata": {},
     "output_type": "execute_result"
    }
   ],
   "source": [
    "x = cv2.imread(\"1_IMG28.jpg\")\n",
    "cv2.imwrite(\"out.jpg\", x)\n",
    "\n",
    "def resizer(cur_path):\n",
    "    for a in os.listdir(cur_path):\n",
    "        if(os.path.isdir('%s/%s'%(cur_path,a))):\n",
    "            # resizer('%s/%s'%(cur_path,a))\n",
    "            print('%s/%s'%(cur_path,str(a)))\n",
    "        else:\n",
    "\n",
    "            # img = Image.open('%s/%s'%(cur_path,a), 'r')\n",
    "            # newNameTag= random_id(6)\n",
    "            # newName= newNameTag + str(next(iid)) + \".png\"\n",
    "            # os.rename('%s/%s'%(cur_path,a),'%s/%s'%(cur_path,newName))\n",
    "            try:\n",
    "                img = cv2.imread('%s/%s'%(cur_path,a))\n",
    "                cv2.imwrite('%s/%s'%(cur_path,a),img)\n",
    "                os.rename('%s/%s'%(cur_path,a),'%s/%s'%(cur_path,newName))\n",
    "                \n",
    "            except:\t\t\t\t\n",
    "                print(\"file not image \",str(a))\n",
    "\n",
    "\n",
    "resize_size=(56,56)\n",
    "cur_path = os.path.dirname(os.path.abspath(__file__))\n",
    "resizer(cur_path)"
   ]
  },
  {
   "cell_type": "code",
   "execution_count": null,
   "metadata": {
    "collapsed": true
   },
   "outputs": [],
   "source": [
    "c = cv2.imread(\"out.jpg\")"
   ]
  },
  {
   "cell_type": "code",
   "execution_count": 42,
   "metadata": {
    "collapsed": false
   },
   "outputs": [
    {
     "data": {
      "text/plain": [
       "True"
      ]
     },
     "execution_count": 42,
     "metadata": {},
     "output_type": "execute_result"
    }
   ],
   "source": [
    "x = cv2.imread(\"1_IMG28.jpg\")\n",
    "cv2.imwrite(\"123123123.jpg\", x)"
   ]
  },
  {
   "cell_type": "code",
   "execution_count": null,
   "metadata": {
    "collapsed": true
   },
   "outputs": [],
   "source": []
  }
 ],
 "metadata": {
  "kernelspec": {
   "display_name": "Python 2",
   "language": "python",
   "name": "python2"
  },
  "language_info": {
   "codemirror_mode": {
    "name": "ipython",
    "version": 2
   },
   "file_extension": ".py",
   "mimetype": "text/x-python",
   "name": "python",
   "nbconvert_exporter": "python",
   "pygments_lexer": "ipython2",
   "version": "2.7.12"
  }
 },
 "nbformat": 4,
 "nbformat_minor": 2
}
