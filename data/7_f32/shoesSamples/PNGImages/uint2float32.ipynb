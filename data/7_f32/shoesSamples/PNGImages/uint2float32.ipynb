{
 "cells": [
  {
   "cell_type": "code",
   "execution_count": 6,
   "metadata": {
    "collapsed": true,
    "deletable": true,
    "editable": true
   },
   "outputs": [],
   "source": [
    "import cv2\n",
    "import numpy as np\n",
    "%matplotlib inline"
   ]
  },
  {
   "cell_type": "code",
   "execution_count": 2,
   "metadata": {
    "collapsed": false,
    "deletable": true,
    "editable": true
   },
   "outputs": [],
   "source": [
    "# x = cv2.imread(\"1_IMG28.jpg\")\n",
    "# cv2.imwrite(\"out.jpg\", x)\n",
    "\n",
    "# def resizer(cur_path):\n",
    "#     for a in os.listdir(cur_path):\n",
    "#         if(os.path.isdir('%s/%s'%(cur_path,a))):\n",
    "#             # resizer('%s/%s'%(cur_path,a))\n",
    "#             print('%s/%s'%(cur_path,str(a)))\n",
    "#         else:\n",
    "\n",
    "#             # img = Image.open('%s/%s'%(cur_path,a), 'r')\n",
    "#             # newNameTag= random_id(6)\n",
    "#             # newName= newNameTag + str(next(iid)) + \".png\"\n",
    "#             # os.rename('%s/%s'%(cur_path,a),'%s/%s'%(cur_path,newName))\n",
    "#             try:\n",
    "#                 img = cv2.imread('%s/%s'%(cur_path,a))\n",
    "#                 cv2.imwrite('%s/%s'%(cur_path,a),img)\n",
    "#                 os.rename('%s/%s'%(cur_path,a),'%s/%s'%(cur_path,newName))\n",
    "                \n",
    "#             except:\t\t\t\t\n",
    "#                 print(\"file not image \",str(a))\n",
    "\n",
    "\n",
    "# resize_size=(56,56)\n",
    "# cur_path = os.path.dirname(os.path.abspath(__file__))\n",
    "# resizer(cur_path)"
   ]
  },
  {
   "cell_type": "code",
   "execution_count": 7,
   "metadata": {
    "collapsed": false,
    "deletable": true,
    "editable": true
   },
   "outputs": [],
   "source": [
    "x = cv2.imread(\"1_IMG32.jpg\")"
   ]
  },
  {
   "cell_type": "code",
   "execution_count": 9,
   "metadata": {
    "collapsed": false
   },
   "outputs": [],
   "source": [
    "f32 = np.array(x/255.999, dtype='f')"
   ]
  },
  {
   "cell_type": "code",
   "execution_count": 10,
   "metadata": {
    "collapsed": false
   },
   "outputs": [
    {
     "data": {
      "text/plain": [
       "array([[[ 0.18359447,  0.18359447,  0.18359447],\n",
       "        [ 0.20312579,  0.20312579,  0.20312579],\n",
       "        [ 0.13281302,  0.13281302,  0.13281302],\n",
       "        ..., \n",
       "        [ 0.15625061,  0.15625061,  0.15625061],\n",
       "        [ 0.14453182,  0.14453182,  0.14453182],\n",
       "        [ 0.23437591,  0.23437591,  0.23437591]],\n",
       "\n",
       "       [[ 0.15625061,  0.15625061,  0.15625061],\n",
       "        [ 0.17187567,  0.17187567,  0.17187567],\n",
       "        [ 0.15234435,  0.15234435,  0.15234435],\n",
       "        ..., \n",
       "        [ 0.14062555,  0.14062555,  0.14062555],\n",
       "        [ 0.18750073,  0.18750073,  0.18750073],\n",
       "        [ 0.17187567,  0.17187567,  0.17187567]],\n",
       "\n",
       "       [[ 0.13281302,  0.13281302,  0.13281302],\n",
       "        [ 0.14062555,  0.14062555,  0.14062555],\n",
       "        [ 0.17187567,  0.17187567,  0.17187567],\n",
       "        ..., \n",
       "        [ 0.17578194,  0.17578194,  0.17578194],\n",
       "        [ 0.15234435,  0.15234435,  0.15234435],\n",
       "        [ 0.13281302,  0.13281302,  0.13281302]],\n",
       "\n",
       "       ..., \n",
       "       [[ 0.16406314,  0.16406314,  0.16406314],\n",
       "        [ 0.14062555,  0.14062555,  0.14062555],\n",
       "        [ 0.16406314,  0.16406314,  0.16406314],\n",
       "        ..., \n",
       "        [ 0.17187567,  0.17187567,  0.17187567],\n",
       "        [ 0.14843808,  0.14843808,  0.14843808],\n",
       "        [ 0.15234435,  0.15234435,  0.15234435]],\n",
       "\n",
       "       [[ 0.13671929,  0.13671929,  0.13671929],\n",
       "        [ 0.16015688,  0.16015688,  0.16015688],\n",
       "        [ 0.16015688,  0.16015688,  0.16015688],\n",
       "        ..., \n",
       "        [ 0.17187567,  0.17187567,  0.17187567],\n",
       "        [ 0.14843808,  0.14843808,  0.14843808],\n",
       "        [ 0.16406314,  0.16406314,  0.16406314]],\n",
       "\n",
       "       [[ 0.17187567,  0.17187567,  0.17187567],\n",
       "        [ 0.19531326,  0.19531326,  0.19531326],\n",
       "        [ 0.1796882 ,  0.1796882 ,  0.1796882 ],\n",
       "        ..., \n",
       "        [ 0.14843808,  0.14843808,  0.14843808],\n",
       "        [ 0.13281302,  0.13281302,  0.13281302],\n",
       "        [ 0.21875085,  0.21875085,  0.21875085]]], dtype=float32)"
      ]
     },
     "execution_count": 10,
     "metadata": {},
     "output_type": "execute_result"
    }
   ],
   "source": [
    "cv2.imwrite(f32"
   ]
  }
 ],
 "metadata": {
  "kernelspec": {
   "display_name": "Python 2",
   "language": "python",
   "name": "python2"
  },
  "language_info": {
   "codemirror_mode": {
    "name": "ipython",
    "version": 2
   },
   "file_extension": ".py",
   "mimetype": "text/x-python",
   "name": "python",
   "nbconvert_exporter": "python",
   "pygments_lexer": "ipython2",
   "version": "2.7.12"
  }
 },
 "nbformat": 4,
 "nbformat_minor": 2
}
